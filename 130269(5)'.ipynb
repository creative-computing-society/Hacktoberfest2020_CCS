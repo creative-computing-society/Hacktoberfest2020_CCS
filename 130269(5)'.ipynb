{
  "nbformat": 4,
  "nbformat_minor": 0,
  "metadata": {
    "colab": {
      "name": "ML_Bootcamp.ipynb",#bug problemm 
      "provenance": [],
      "authorship_tag": "ABX9TyNGde76A7y6GVSvz7gw248C",
      "include_colab_link": true
    },
    "kernelspec": {
      "name": "python3",
      "display_name": "Python 3"
    }
  },
  "cells": [
    {
      "cell_type": "markdown",
      "metadata": {
        "id": "view-in-github",
        "colab_type": "text"
      },
      "source": [
        "<a href=\"https://colab.research.google.com/github/kaustuvkaran01/ML_A-Z/blob/master/ML_Bootcamp.ipynb\" target=\"_parent\"><img src=\"https://colab.research.google.com/assets/colab-badge.svg\" alt=\"Open In Colab\"/></a>"
      ]
    },
    {
      "cell_type": "code",
      "metadata": {
        "id": "hOpDtKONm4G2",
        "colab_type": "code",
        "colab": {
          "base_uri": "https://localhost:8080/",
          "height": 53
        },
        "outputId": "1218904c-bcb2-43e2-a36a-35ae8973f279"
      },
      "source": [
        "from google.colab import drive\n",
        "drive.mount('/content/drive')"
      ],
      "execution_count": 99,
      "outputs": [
        {
          "output_type": "stream",
          "text": [
            "Drive already mounted at /content/drive; to attempt to forcibly remount, call drive.mount(\"/content/drive\", force_remount=True).\n"
          ],
          "name": "stdout"
        }
      ]
    },
    {
      "cell_type": "code",
      "metadata": {
        "id": "orCvPCxmYeT3",
        "colab_type": "code",
        "colab": {}
      },
      "source": [
        "# Importing the libraries\n",
        "import numpy as np\n",
        "import matplotlib.pyplot as plt\n",
        "import pandas as pd"
      ],
      "execution_count": 0,
      "outputs": []
    },
    {
      "cell_type": "code",
      "metadata": {
        "id": "3FNJqB-7Yohl",
        "colab_type": "code",
        "colab": {}
      },
      "source": [
        "#import dataset\n",
        "dataset_svm = pd.read_csv('/content/drive/My Drive/ML_bootcamp/Social.csv')"
      ],
      "execution_count": 0,
      "outputs": []
    },
    {
      "cell_type": "code",
      "metadata": {
        "id": "2sYXtzcvYsIA",
        "colab_type": "code",
        "colab": {
          "base_uri": "https://localhost:8080/",
          "height": 345
        },
        "outputId": "cedc0189-cd9b-4711-e0ad-165a9dd66d1c"
      },
      "source": [
        "dataset_svm.head(10)"
      ],
      "execution_count": 59,
      "outputs": [
        {
          "output_type": "execute_result",
          "data": {
            "text/html": [
              "<div>\n",
              "<style scoped>\n",
              "    .dataframe tbody tr th:only-of-type {\n",
              "        vertical-align: middle;\n",
              "    }\n",
              "\n",
              "    .dataframe tbody tr th {\n",
              "        vertical-align: top;\n",
              "    }\n",
              "\n",
              "    .dataframe thead th {\n",
              "        text-align: right;\n",
              "    }\n",
              "</style>\n",
              "<table border=\"1\" class=\"dataframe\">\n",
              "  <thead>\n",
              "    <tr style=\"text-align: right;\">\n",
              "      <th></th>\n",
              "      <th>User ID</th>\n",
              "      <th>Gender</th>\n",
              "      <th>Age</th>\n",
              "      <th>EstimatedSalary</th>\n",
              "      <th>Purchased</th>\n",
              "    </tr>\n",
              "  </thead>\n",
              "  <tbody>\n",
              "    <tr>\n",
              "      <th>0</th>\n",
              "      <td>15624510</td>\n",
              "      <td>Male</td>\n",
              "      <td>19</td>\n",
              "      <td>19000</td>\n",
              "      <td>0</td>\n",
              "    </tr>\n",
              "    <tr>\n",
              "      <th>1</th>\n",
              "      <td>15810944</td>\n",
              "      <td>Male</td>\n",
              "      <td>35</td>\n",
              "      <td>20000</td>\n",
              "      <td>0</td>\n",
              "    </tr>\n",
              "    <tr>\n",
              "      <th>2</th>\n",
              "      <td>15668575</td>\n",
              "      <td>Female</td>\n",
              "      <td>26</td>\n",
              "      <td>43000</td>\n",
              "      <td>0</td>\n",
              "    </tr>\n",
              "    <tr>\n",
              "      <th>3</th>\n",
              "      <td>15603246</td>\n",
              "      <td>Female</td>\n",
              "      <td>27</td>\n",
              "      <td>57000</td>\n",
              "      <td>0</td>\n",
              "    </tr>\n",
              "    <tr>\n",
              "      <th>4</th>\n",
              "      <td>15804002</td>\n",
              "      <td>Male</td>\n",
              "      <td>19</td>\n",
              "      <td>76000</td>\n",
              "      <td>0</td>\n",
              "    </tr>\n",
              "    <tr>\n",
              "      <th>5</th>\n",
              "      <td>15728773</td>\n",
              "      <td>Male</td>\n",
              "      <td>27</td>\n",
              "      <td>58000</td>\n",
              "      <td>0</td>\n",
              "    </tr>\n",
              "    <tr>\n",
              "      <th>6</th>\n",
              "      <td>15598044</td>\n",
              "      <td>Female</td>\n",
              "      <td>27</td>\n",
              "      <td>84000</td>\n",
              "      <td>0</td>\n",
              "    </tr>\n",
              "    <tr>\n",
              "      <th>7</th>\n",
              "      <td>15694829</td>\n",
              "      <td>Female</td>\n",
              "      <td>32</td>\n",
              "      <td>150000</td>\n",
              "      <td>1</td>\n",
              "    </tr>\n",
              "    <tr>\n",
              "      <th>8</th>\n",
              "      <td>15600575</td>\n",
              "      <td>Male</td>\n",
              "      <td>25</td>\n",
              "      <td>33000</td>\n",
              "      <td>0</td>\n",
              "    </tr>\n",
              "    <tr>\n",
              "      <th>9</th>\n",
              "      <td>15727311</td>\n",
              "      <td>Female</td>\n",
              "      <td>35</td>\n",
              "      <td>65000</td>\n",
              "      <td>0</td>\n",
              "    </tr>\n",
              "  </tbody>\n",
              "</table>\n",
              "</div>"
            ],
            "text/plain": [
              "    User ID  Gender  Age  EstimatedSalary  Purchased\n",
              "0  15624510    Male   19            19000          0\n",
              "1  15810944    Male   35            20000          0\n",
              "2  15668575  Female   26            43000          0\n",
              "3  15603246  Female   27            57000          0\n",
              "4  15804002    Male   19            76000          0\n",
              "5  15728773    Male   27            58000          0\n",
              "6  15598044  Female   27            84000          0\n",
              "7  15694829  Female   32           150000          1\n",
              "8  15600575    Male   25            33000          0\n",
              "9  15727311  Female   35            65000          0"
            ]
          },
          "metadata": {
            "tags": []
          },
          "execution_count": 59
        }
      ]
    },
    {
      "cell_type": "code",
      "metadata": {
        "id": "hDUZsEXFa33A",
        "colab_type": "code",
        "colab": {
          "base_uri": "https://localhost:8080/",
          "height": 33
        },
        "outputId": "6ea00f44-21f9-486f-8c80-1d0046db7fec"
      },
      "source": [
        "dataset_svm.shape"
      ],
      "execution_count": 60,
      "outputs": [
        {
          "output_type": "execute_result",
          "data": {
            "text/plain": [
              "(400, 5)"
            ]
          },
          "metadata": {
            "tags": []
          },
          "execution_count": 60
        }
      ]
    },
    {
      "cell_type": "code",
      "metadata": {
        "id": "cCxVjEnMZl7y",
        "colab_type": "code",
        "colab": {}
      },
      "source": [
        "X_svm = dataset_svm.iloc[:, [2, 3]].values"
      ],
      "execution_count": 0,
      "outputs": []
    },
    {
      "cell_type": "code",
      "metadata": {
        "id": "QiHnJzY4aZSf",
        "colab_type": "code",
        "colab": {
          "base_uri": "https://localhost:8080/",
          "height": 50
        },
        "outputId": "19b44095-1c2e-4425-8020-d879a5070cea"
      },
      "source": [
        "X_svm[1:3]"
      ],
      "execution_count": 62,
      "outputs": [
        {
          "output_type": "execute_result",
          "data": {
            "text/plain": [
              "array([[   35, 20000],\n",
              "       [   26, 43000]])"
            ]
          },
          "metadata": {
            "tags": []
          },
          "execution_count": 62
        }
      ]
    },
    {
      "cell_type": "code",
      "metadata": {
        "id": "UZpztSJsZ2ol",
        "colab_type": "code",
        "colab": {}
      },
      "source": [
        "y_svm = dataset_svm.iloc[:, 4].values\n"
      ],
      "execution_count": 0,
      "outputs": []
    },
    {
      "cell_type": "code",
      "metadata": {
        "id": "bui9tBFjak3M",
        "colab_type": "code",
        "colab": {
          "base_uri": "https://localhost:8080/",
          "height": 334
        },
        "outputId": "cb50da66-e9f9-496c-c636-0d65555370ad"
      },
      "source": [
        "y_svm"
      ],
      "execution_count": 64,
      "outputs": [
        {
          "output_type": "execute_result",
          "data": {
            "text/plain": [
              "array([0, 0, 0, 0, 0, 0, 0, 1, 0, 0, 0, 0, 0, 0, 0, 0, 1, 1, 1, 1, 1, 1,\n",
              "       1, 1, 1, 1, 1, 1, 0, 0, 0, 1, 0, 0, 0, 0, 0, 0, 0, 0, 0, 0, 0, 0,\n",
              "       0, 0, 0, 0, 1, 0, 0, 0, 0, 0, 0, 0, 0, 0, 0, 0, 0, 0, 0, 1, 0, 0,\n",
              "       0, 0, 0, 0, 0, 0, 0, 0, 0, 1, 0, 0, 0, 0, 0, 0, 0, 0, 0, 1, 0, 0,\n",
              "       0, 0, 0, 0, 0, 0, 0, 0, 0, 1, 0, 0, 0, 0, 0, 1, 0, 0, 0, 0, 0, 0,\n",
              "       0, 0, 0, 0, 0, 0, 0, 0, 0, 0, 0, 0, 0, 0, 0, 0, 0, 0, 0, 0, 0, 0,\n",
              "       0, 0, 0, 0, 0, 1, 0, 0, 0, 0, 0, 0, 0, 0, 1, 0, 0, 0, 0, 0, 0, 0,\n",
              "       0, 0, 0, 0, 0, 1, 1, 0, 0, 0, 0, 0, 0, 0, 1, 0, 0, 0, 0, 0, 0, 0,\n",
              "       0, 0, 0, 0, 0, 0, 1, 0, 0, 0, 0, 0, 0, 0, 0, 0, 0, 0, 0, 0, 0, 0,\n",
              "       0, 0, 0, 0, 1, 0, 1, 0, 1, 0, 1, 0, 1, 1, 0, 0, 0, 1, 0, 0, 0, 1,\n",
              "       0, 1, 1, 1, 0, 0, 1, 1, 0, 1, 1, 0, 1, 1, 0, 1, 0, 0, 0, 1, 1, 0,\n",
              "       1, 1, 0, 1, 0, 1, 0, 1, 0, 0, 1, 1, 0, 1, 0, 0, 1, 1, 0, 1, 1, 0,\n",
              "       1, 1, 0, 0, 1, 0, 0, 1, 1, 1, 1, 1, 0, 1, 1, 1, 1, 0, 1, 1, 0, 1,\n",
              "       0, 1, 0, 1, 1, 1, 1, 0, 0, 0, 1, 1, 0, 1, 1, 1, 1, 1, 0, 0, 0, 1,\n",
              "       1, 0, 0, 1, 0, 1, 0, 1, 1, 0, 1, 0, 1, 1, 0, 1, 1, 0, 0, 0, 1, 1,\n",
              "       0, 1, 0, 0, 1, 0, 1, 0, 0, 1, 1, 0, 0, 1, 1, 0, 1, 1, 0, 0, 1, 0,\n",
              "       1, 0, 1, 1, 1, 0, 1, 0, 1, 1, 1, 0, 1, 1, 1, 1, 0, 1, 1, 1, 0, 1,\n",
              "       0, 1, 0, 0, 1, 1, 0, 1, 1, 1, 1, 1, 1, 0, 1, 1, 1, 1, 1, 1, 0, 1,\n",
              "       1, 1, 0, 1])"
            ]
          },
          "metadata": {
            "tags": []
          },
          "execution_count": 64
        }
      ]
    },
    {
      "cell_type": "code",
      "metadata": {
        "id": "t_bjTq77Z5UE",
        "colab_type": "code",
        "colab": {}
      },
      "source": [
        "# Splitting the dataset into the Training set and Test set\n",
        "from sklearn.model_selection import train_test_split\n",
        "X_train_svm, X_test_svm, y_train_svm, y_test_svm = train_test_split(X_svm, y_svm, test_size = 0.25, random_state = 0)"
      ],
      "execution_count": 0,
      "outputs": []
    },
    {
      "cell_type": "code",
      "metadata": {
        "id": "jjfu31SIaKyE",
        "colab_type": "code",
        "colab": {
          "base_uri": "https://localhost:8080/",
          "height": 33
        },
        "outputId": "0930fdfa-d02c-4920-e101-ce511ca0574e"
      },
      "source": [
        "len(X_train_svm)"
      ],
      "execution_count": 66,
      "outputs": [
        {
          "output_type": "execute_result",
          "data": {
            "text/plain": [
              "300"
            ]
          },
          "metadata": {
            "tags": []
          },
          "execution_count": 66
        }
      ]
    },
    {
      "cell_type": "code",
      "metadata": {
        "id": "o40N2cw8atM3",
        "colab_type": "code",
        "colab": {
          "base_uri": "https://localhost:8080/",
          "height": 33
        },
        "outputId": "0bd6ce1a-1803-46db-af63-5443082a1cc0"
      },
      "source": [
        "len(X_test_svm)"
      ],
      "execution_count": 67,
      "outputs": [
        {
          "output_type": "execute_result",
          "data": {
            "text/plain": [
              "100"
            ]
          },
          "metadata": {
            "tags": []
          },
          "execution_count": 67
        }
      ]
    },
    {
      "cell_type": "code",
      "metadata": {
        "id": "E20mT2zfavmS",
        "colab_type": "code",
        "colab": {
          "base_uri": "https://localhost:8080/",
          "height": 33
        },
        "outputId": "14ac2d87-7562-4101-c260-441c681c050e"
      },
      "source": [
        "len(y_train_svm)"
      ],
      "execution_count": 68,
      "outputs": [
        {
          "output_type": "execute_result",
          "data": {
            "text/plain": [
              "300"
            ]
          },
          "metadata": {
            "tags": []
          },
          "execution_count": 68
        }
      ]
    },
    {
      "cell_type": "code",
      "metadata": {
        "id": "UlSwi1yja0AE",
        "colab_type": "code",
        "colab": {
          "base_uri": "https://localhost:8080/",
          "height": 33
        },
        "outputId": "fdab0768-a885-412d-dc33-ffdbe3a72b9b"
      },
      "source": [
        "len(y_test_svm)"
      ],
      "execution_count": 69,
      "outputs": [
        {
          "output_type": "execute_result",
          "data": {
            "text/plain": [
              "100"
            ]
          },
          "metadata": {
            "tags": []
          },
          "execution_count": 69
        }
      ]
    },
    {
      "cell_type": "code",
      "metadata": {
        "id": "cTayd7aEa2GI",
        "colab_type": "code",
        "colab": {}
      },
      "source": [
        "# Feature Scaling\n",
        "from sklearn.preprocessing import StandardScaler\n",
        "sc = StandardScaler()\n",
        "X_train_svm = sc.fit_transform(X_train_svm)\n",
        "X_test_svm = sc.transform(X_test_svm)"
      ],
      "execution_count": 0,
      "outputs": []
    },
    {
      "cell_type": "code",
      "metadata": {
        "id": "pNUSA8VTbsip",
        "colab_type": "code",
        "colab": {
          "base_uri": "https://localhost:8080/",
          "height": 84
        },
        "outputId": "a5bb1921-58b7-4022-fac8-23d775135e37"
      },
      "source": [
        "# Fitting SVM to the Training set\n",
        "from sklearn.svm import SVC\n",
        "classifier_svm = SVC(kernel = 'linear', random_state = 0)\n",
        "classifier_svm.fit(X_train_svm, y_train_svm)"
      ],
      "execution_count": 71,
      "outputs": [
        {
          "output_type": "execute_result",
          "data": {
            "text/plain": [
              "SVC(C=1.0, break_ties=False, cache_size=200, class_weight=None, coef0=0.0,\n",
              "    decision_function_shape='ovr', degree=3, gamma='scale', kernel='linear',\n",
              "    max_iter=-1, probability=False, random_state=0, shrinking=True, tol=0.001,\n",
              "    verbose=False)"
            ]
          },
          "metadata": {
            "tags": []
          },
          "execution_count": 71
        }
      ]
    },
    {
      "cell_type": "code",
      "metadata": {
        "id": "fmKT8E_0cPoM",
        "colab_type": "code",
        "colab": {
          "base_uri": "https://localhost:8080/",
          "height": 474
        },
        "outputId": "3076ef72-cb3b-48c8-d96f-d9a4c7612e16"
      },
      "source": [
        "\n",
        "plt.figure(figsize=(10,6))\n",
        "plt.hist(X_train_svm)"
      ],
      "execution_count": 72,
      "outputs": [
        {
          "output_type": "execute_result",
          "data": {
            "text/plain": [
              "([array([18., 25., 41., 42., 49., 40., 38., 18., 16., 13.]),\n",
              "  array([ 3., 42., 39., 46., 61., 43., 13., 21., 16., 16.])],\n",
              " array([-1.99318916, -1.56071704, -1.12824493, -0.69577281, -0.26330069,\n",
              "         0.16917142,  0.60164354,  1.03411565,  1.46658777,  1.89905989,\n",
              "         2.331532  ]),\n",
              " <a list of 2 Lists of Patches objects>)"
            ]
          },
          "metadata": {
            "tags": []
          },
          "execution_count": 72
        },
        {
          "output_type": "display_data",
          "data": {
            "image/png": "iVBORw0KGgoAAAANSUhEUgAAAlAAAAFlCAYAAAAkvdbGAAAABHNCSVQICAgIfAhkiAAAAAlwSFlz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\nAAAASUVORK5CYII=\n",
            "text/plain": [
              "<Figure size 720x432 with 1 Axes>"
            ]
          },
          "metadata": {
            "tags": []
          }
        }
      ]
    },
    {
      "cell_type": "code",
      "metadata": {
        "id": "D8TKT1l2crKI",
        "colab_type": "code",
        "colab": {}
      },
      "source": [
        "# Predicting the Test set results\n",
        "y_pred_svm = classifier_svm.predict(X_test_svm)"
      ],
      "execution_count": 0,
      "outputs": []
    },
    {
      "cell_type": "code",
      "metadata": {
        "id": "Af0PsGjKd1-D",
        "colab_type": "code",#bug problem doing same steps  then also
        "colab": {}
      },
      "source": [
        "# Checking results\n",
        "from sklearn.metrics import accuracy_score\n",
        "acc_svm = accuracy_score(y_test_svm, y_pred_svm)"
      ],
      "execution_count": 0,
      "outputs": []
    },
    {
      "cell_type": "code",
      "metadata": {
        "id": "L0C6696oeGdB",
        "colab_type": "code",
        "colab": {
          "base_uri": "https://localhost:8080/",
          "height": 33
        },
        "outputId": "999d650b-e9ba-4dc8-a338-ade727ed7eb9"
      },
      "source": [
        "print(acc_svm)"
      ],
      "execution_count": 76,
      "outputs": [
        {
          "output_type": "stream",
          "text": [
            "0.9\n"
          ],
          "name": "stdout"
        }
      ]
    },
    {
      "cell_type": "code",
      "metadata": {
        "id": "N7u9bH9XeH2T",
        "colab_type": "code",
        "colab": {
          "base_uri": "https://localhost:8080/",
          "height": 349
        },
        "outputId": "ab6f8f06-70f3-4ad6-99ed-b8df284989c7"
      },
      "source": [
        "#Visualise training set \n",
        "from matplotlib.colors import ListedColormap\n",
        "X_set, y_set = X_train_svm, y_train_svm\n",
        "X1, X2 = np.meshgrid(np.arange(start = X_set[:, 0].min() - 1, stop = X_set[:, 0].max() + 1, step = 0.01),\n",
        "                     np.arange(start = X_set[:, 1].min() - 1, stop = X_set[:, 1].max() + 1, step = 0.01))\n",
        "plt.contourf(X1, X2, classifier_svm.predict(np.array([X1.ravel(), X2.ravel()]).T).reshape(X1.shape),\n",
        "             alpha = 0.75, cmap = ListedColormap(('red', 'green')))\n",
        "plt.xlim(X1.min(), X1.max())\n",
        "plt.ylim(X2.min(), X2.max())\n",
        "for i, j in enumerate(np.unique(y_set)):\n",
        "    plt.scatter(X_set[y_set == j, 0], X_set[y_set == j, 1],\n",
        "                c = ListedColormap(('red', 'green'))(i), label = j)\n",
        "plt.title('SVM (Training set)')\n",
        "plt.xlabel('Age')\n",
        "plt.ylabel('Estimated Salary')\n",
        "plt.legend()\n",
        "plt.show()"
      ],
      "execution_count": 77,
      "outputs": [
        {
          "output_type": "stream",
          "text": [
            "'c' argument looks like a single numeric RGB or RGBA sequence, which should be avoided as value-mapping will have precedence in case its length matches with 'x' & 'y'.  Please use a 2-D array with a single row if you really want to specify the same RGB or RGBA value for all points.\n",
            "'c' argument looks like a single numeric RGB or RGBA sequence, which should be avoided as value-mapping will have precedence in case its length matches with 'x' & 'y'.  Please use a 2-D array with a single row if you really want to specify the same RGB or RGBA value for all points.\n"
          ],
          "name": "stderr"
        },
        {
          "output_type": "display_data",
          "data": {
            "image/png": "iVBORw0KGgoAAAANSUhEUgAAAYAAAAEWCAYAAABv+EDhAAAABHNCSVQICAgIfAhkiAAAAAlwSFlz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\nDcr/D+0O3BA8JGtuAAAAAElFTkSuQmCC\n",
            "text/plain": [
              "<Figure size 432x288 with 1 Axes>"
            ]
          },
          "metadata": {
            "tags": []
          }
        }
      ]
    },
    {
      "cell_type": "code",
      "metadata": {
        "id": "sgv24TnzePJ9",
        "colab_type": "code",
        "colab": {
          "base_uri": "https://localhost:8080/",
          "height": 349
        },
        "outputId": "18909469-090a-43aa-a9d3-8147a8ed34c1"
      },
      "source": [
        "# Visualising the Test set results\n",
        "from matplotlib.colors import ListedColormap\n",
        "X_set, y_set = X_test_svm, y_test_svm\n",
        "X1, X2 = np.meshgrid(np.arange(start = X_set[:, 0].min() - 1, stop = X_set[:, 0].max() + 1, step = 0.01),\n",
        "                     np.arange(start = X_set[:, 1].min() - 1, stop = X_set[:, 1].max() + 1, step = 0.01))\n",
        "plt.contourf(X1, X2, classifier_svm.predict(np.array([X1.ravel(), X2.ravel()]).T).reshape(X1.shape),\n",
        "             alpha = 0.75, cmap = ListedColormap(('red', 'green')))\n",
        "plt.xlim(X1.min(), X1.max())\n",
        "plt.ylim(X2.min(), X2.max())\n",
        "for i, j in enumerate(np.unique(y_set)):\n",
        "    plt.scatter(X_set[y_set == j, 0], X_set[y_set == j, 1],\n",
        "                c = ListedColormap(('red', 'green'))(i), label = j)\n",
        "plt.title('SVM (Test set)')\n",
        "plt.xlabel('Age')\n",
        "plt.ylabel('Estimated Salary')\n",
        "plt.legend()\n",
        "plt.show()"
      ],
      "execution_count": 78,
      "outputs": [
        {
          "output_type": "stream",
          "text": [
            "'c' argument looks like a single numeric RGB or RGBA sequence, which should be avoided as value-mapping will have precedence in case its length matches with 'x' & 'y'.  Please use a 2-D array with a single row if you really want to specify the same RGB or RGBA value for all points.\n",
            "'c' argument looks like a single numeric RGB or RGBA sequence, which should be avoided as value-mapping will have precedence in case its length matches with 'x' & 'y'.  Please use a 2-D array with a single row if you really want to specify the same RGB or RGBA value for all points.\n"
          ],
          "name": "stderr"
        },
        {
          "output_type": "display_data",
          "data": {
            "image/png": "iVBORw0KGgoAAAANSUhEUgAAAYAAAAEWCAYAAABv+EDhAAAABHNCSVQICAgIfAhkiAAAAAlwSFlz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\nSEYpAIiIZJQCgIhIRv1/iEtmUMEh5HIAAAAASUVORK5CYII=\n",
            "text/plain": [
              "<Figure size 432x288 with 1 Axes>"
            ]
          },
          "metadata": {
            "tags": []
          }
        }
      ]
    },
    {
      "cell_type": "code",
      "metadata": {
        "id": "SFsdLFtuevDN",
        "colab_type": "code",
        "colab": {}
      },
      "source": [
        "## Kmeans Clustering "
      ],
      "execution_count": 0,
      "outputs": []
    },
    {
      "cell_type": "code",
      "metadata": {
        "id": "NrHFi6cKgZLg",
        "colab_type": "code",
        "colab": {}
      },
      "source": [
        "import numpy as np\n",
        "import matplotlib.pyplot as plt\n",
        "import pandas as pd"
      ],
      "execution_count": 0,
      "outputs": []
    },
    {
      "cell_type": "code",
      "metadata": {
        "id": "5FvBMQCghMk3",
        "colab_type": "code",
        "colab": {}
      },
      "source": [
        "#Reading the Dataset\n",
        "dataset_kmeans = pd.read_csv('/content/drive/My Drive/ML_bootcamp/clustering.csv')\n"
      ],
      "execution_count": 0,
      "outputs": []
    },
    {
      "cell_type": "code",
      "metadata": {
        "id": "rALKDWSghYKA",
        "colab_type": "code",
        "colab": {
          "base_uri": "https://localhost:8080/",
          "height": 196
        },
        "outputId": "dce55bda-98c6-4f7d-8f4e-974bcf918861"
      },
      "source": [
        "dataset_kmeans.head()"
      ],
      "execution_count": 82,
      "outputs": [
        {
          "output_type": "execute_result",
          "data": {
            "text/html": [
              "<div>\n",
              "<style scoped>\n",
              "    .dataframe tbody tr th:only-of-type {\n",
              "        vertical-align: middle;\n",
              "    }\n",
              "\n",
              "    .dataframe tbody tr th {\n",
              "        vertical-align: top;\n",
              "    }\n",
              "\n",
              "    .dataframe thead th {\n",
              "        text-align: right;\n",
              "    }\n",
              "</style>\n",
              "<table border=\"1\" class=\"dataframe\">\n",
              "  <thead>\n",
              "    <tr style=\"text-align: right;\">\n",
              "      <th></th>\n",
              "      <th>CustomerID</th>\n",
              "      <th>Genre</th>\n",
              "      <th>Age</th>\n",
              "      <th>Annual Income (k$)</th>\n",
              "      <th>Spending Score (1-100)</th>\n",
              "    </tr>\n",
              "  </thead>\n",
              "  <tbody>\n",
              "    <tr>\n",
              "      <th>0</th>\n",
              "      <td>1</td>\n",
              "      <td>Male</td>\n",
              "      <td>19</td>\n",
              "      <td>15</td>\n",
              "      <td>39</td>\n",
              "    </tr>\n",
              "    <tr>\n",
              "      <th>1</th>\n",
              "      <td>2</td>\n",
              "      <td>Male</td>\n",
              "      <td>21</td>\n",
              "      <td>15</td>\n",
              "      <td>81</td>\n",
              "    </tr>\n",
              "    <tr>\n",
              "      <th>2</th>\n",
              "      <td>3</td>\n",
              "      <td>Female</td>\n",
              "      <td>20</td>\n",
              "      <td>16</td>\n",
              "      <td>6</td>\n",
              "    </tr>\n",
              "    <tr>\n",
              "      <th>3</th>\n",
              "      <td>4</td>\n",
              "      <td>Female</td>\n",
              "      <td>23</td>\n",
              "      <td>16</td>\n",
              "      <td>77</td>\n",
              "    </tr>\n",
              "    <tr>\n",
              "      <th>4</th>\n",
              "      <td>5</td>\n",
              "      <td>Female</td>\n",
              "      <td>31</td>\n",
              "      <td>17</td>\n",
              "      <td>40</td>\n",
              "    </tr>\n",
              "  </tbody>\n",
              "</table>\n",
              "</div>"
            ],
            "text/plain": [
              "   CustomerID   Genre  Age  Annual Income (k$)  Spending Score (1-100)\n",
              "0           1    Male   19                  15                      39\n",
              "1           2    Male   21                  15                      81\n",
              "2           3  Female   20                  16                       6\n",
              "3           4  Female   23                  16                      77\n",
              "4           5  Female   31                  17                      40"
            ]
          },
          "metadata": {
            "tags": []
          },
          "execution_count": 82
        }
      ]
    },
    {
      "cell_type": "code",
      "metadata": {
        "id": "oWfZHVNyigpe",
        "colab_type": "code",
        "colab": {
          "base_uri": "https://localhost:8080/",
          "height": 33
        },
        "outputId": "a4c28467-85dc-4c45-8dbd-13d89486697a"
      },
      "source": [
        "dataset_kmeans.shape"
      ],
      "execution_count": 88,
      "outputs": [
        {
          "output_type": "execute_result",
          "data": {
            "text/plain": [
              "(200, 5)"
            ]
          },
          "metadata": {
            "tags": []
          },
          "execution_count": 88
        }
      ]
    },
    {
      "cell_type": "code",
      "metadata": {
        "id": "pwlk9MfEhbVW",
        "colab_type": "code",
        "colab": {}
      },
      "source": [
        "X_kmeans = dataset_kmeans.iloc[:,[3,4]].values"
      ],
      "execution_count": 0,
      "outputs": []
    },
    {
      "cell_type": "code",
      "metadata": {
        "id": "jmA-L_usiQq6",
        "colab_type": "code",
        "colab": {
          "base_uri": "https://localhost:8080/",
          "height": 50
        },
        "outputId": "72edf673-1b96-47ea-8037-57f0afc1c08c"
      },
      "source": [
        "X_kmeans[1:3]"
      ],
      "execution_count": 87,
      "outputs": [
        {
          "output_type": "execute_result",
          "data": {
            "text/plain": [
              "array([[15, 81],\n",
              "       [16,  6]])"
            ]
          },
          "metadata": {
            "tags": []
          },
          "execution_count": 87
        }
      ]
    },
    {
      "cell_type": "code",
      "metadata": {
        "id": "T266bNvfi2MD",
        "colab_type": "code",
        "colab": {}
      },
      "source": [
        "from sklearn.cluster import KMeans"
      ],
      "execution_count": 0,
      "outputs": []
    },
    {
      "cell_type": "code",
      "metadata": {
        "id": "V6YoyXLqiTi-",
        "colab_type": "code",
        "colab": {}
      },
      "source": [
        "kmeans = KMeans(n_clusters=3,init='k-means++',max_iter=300,n_init=10, random_state=0)\n",
        "y_kmeans = kmeans.fit_predict(X_kmeans)\n"
      ],
      "execution_count": 0,
      "outputs": []
    },
    {
      "cell_type": "code",
      "metadata": {
        "id": "WmolngbSixRr",
        "colab_type": "code",
        "colab": {
          "base_uri": "https://localhost:8080/",
          "height": 295
        },
        "outputId": "eb9f7dad-3074-40b2-c55f-0e73a68e3944"
      },
      "source": [
        "#Visualising the clusters\n",
        "plt.scatter(X_kmeans[y_kmeans == 0,0], X_kmeans[y_kmeans == 0,1], s=100, c='red', label='Careful')\n",
        "plt.scatter(X_kmeans[y_kmeans == 1,0], X_kmeans[y_kmeans == 1,1], s=100, c='blue', label='Standard')\n",
        "plt.scatter(X_kmeans[y_kmeans == 2,0], X_kmeans[y_kmeans == 2,1], s=100, c='green', label='Target')\n",
        "plt.scatter(kmeans.cluster_centers_[:,0],kmeans.cluster_centers_[:,1], s=300, c='yellow', label='Centroids')\n",
        "plt.title('Clusters of Clients')\n",
        "plt.xlabel('Annual Income (k$)')\n",
        "plt.ylabel('Spending Score (1-100)')\n",
        "plt.legend()\n",
        "plt.show()"
      ],
      "execution_count": 92,
      "outputs": [
        {
          "output_type": "display_data",
          "data": {
            "image/png": "iVBORw0KGgoAAAANSUhEUgAAAYUAAAEWCAYAAACJ0YulAAAABHNCSVQICAgIfAhkiAAAAAlwSFlz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\nEBH6/36fAAAAAElFTkSuQmCC\n",
            "text/plain": [
              "<Figure size 432x288 with 1 Axes>"
            ]
          },
          "metadata": {
            "tags": []
          }
        }
      ]
    },
    {
      "cell_type": "code",
      "metadata": {
        "id": "qZCOmkDPjHRy",
        "colab_type": "code",
        "colab": {
          "base_uri": "https://localhost:8080/",
          "height": 295
        },
        "outputId": "60a34e68-0679-47d8-92ac-0fb54bcba506"
      },
      "source": [
        "#Using the elbow method to find the optimal number of clusters\n",
        "from sklearn.cluster import KMeans\n",
        "wcss = []\n",
        "for i in range(1,11):\n",
        "    kmeans = KMeans(n_clusters=i,init='k-means++',max_iter=300,n_init=10,random_state=0)\n",
        "    kmeans.fit(X)\n",
        "    wcss.append(kmeans.inertia_)\n",
        "plt.plot(range(1,11),wcss)\n",
        "plt.title('The Elbow Method')\n",
        "plt.xlabel('Number of Clusters')\n",
        "plt.ylabel('WCSS')\n",
        "plt.show()"
      ],
      "execution_count": 93,
      "outputs": [
        {
          "output_type": "display_data",
          "data": {
            "image/png": "iVBORw0KGgoAAAANSUhEUgAAAXgAAAEWCAYAAABsY4yMAAAABHNCSVQICAgIfAhkiAAAAAlwSFlz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\nlAJeRCSmFPAiIjGlgBcRian/DzrY/gLEAHHOAAAAAElFTkSuQmCC\n",
            "text/plain": [
              "<Figure size 432x288 with 1 Axes>"
            ]
          },
          "metadata": {
            "tags": []
          }
        }
      ]
    },
    {
      "cell_type": "code",
      "metadata": {
        "id": "wwOjKHDqjSXk",
        "colab_type": "code",
        "colab": {}
      },
      "source": [
        "#Applying k-means to the  datatset\n",
        "kmeans_elbow = KMeans(n_clusters=5,init='k-means++',max_iter=300,n_init=10, random_state=0)\n",
        "y_kmeans_elbow = kmeans_elbow.fit_predict(X_kmeans)\n"
      ],
      "execution_count": 0,
      "outputs": []
    },
    {
      "cell_type": "code",
      "metadata": {
        "id": "wGu0oESnjYTH",
        "colab_type": "code",
        "colab": {
          "base_uri": "https://localhost:8080/",
          "height": 295
        },
        "outputId": "828894dc-841d-4eab-adae-9759ec178278"
      },
      "source": [
        "#Visualising the clusters\n",
        "plt.scatter(X_kmeans[y_kmeans_elbow == 0,0], X_kmeans[y_kmeans_elbow == 0,1], s=100, c='red', label='Careful')\n",
        "plt.scatter(X_kmeans[y_kmeans_elbow == 1,0], X_kmeans[y_kmeans_elbow == 1,1], s=100, c='blue', label='Standard')\n",
        "plt.scatter(X_kmeans[y_kmeans_elbow == 2,0], X_kmeans[y_kmeans_elbow == 2,1], s=100, c='green', label='Target')\n",
        "plt.scatter(X_kmeans[y_kmeans_elbow == 3,0], X_kmeans[y_kmeans_elbow == 3,1], s=100, c='cyan', label='Careless')\n",
        "plt.scatter(X_kmeans[y_kmeans_elbow == 4,0], X_kmeans[y_kmeans_elbow == 4,1], s=100, c='magenta', label='Sensible')\n",
        "plt.scatter(kmeans.cluster_centers_[:,0],kmeans.cluster_centers_[:,1], s=300, c='yellow', label='Centroids')\n",
        "plt.title('Clusters of Clients')\n",
        "plt.xlabel('Annual Income (k$)')\n",
        "plt.ylabel('Spending Score (1-100)')\n",
        "plt.legend()\n",
        "plt.show()"
      ],
      "execution_count": 98,
      "outputs": [
        {
          "output_type": "display_data",
          "data": {
            "image/png": "iVBORw0KGgoAAAANSUhEUgAAAYUAAAEWCAYAAACJ0YulAAAABHNCSVQICAgIfAhkiAAAAAlwSFlz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\nBFXCKQRBEARV/g9AJ+GXHW0+4wAAAABJRU5ErkJggg==\n",
            "text/plain": [
              "<Figure size 432x288 with 1 Axes>"
            ]
          },
          "metadata": {
            "tags": []
          }
        }
      ]
    },
    {
      "cell_type": "code",
      "metadata": {
        "id": "Ojsh4kDYBbz0",
        "colab_type": "code",
        "colab": {}
      },
      "source": [
        "#Metrics Methods"
      ],
      "execution_count": 0,
      "outputs": []
    },
    {
      "cell_type": "code",
      "metadata": {
        "id": "DXTz0Hqpjlyk",
        "colab_type": "code",
        "colab": {}
      },
      "source": [
        "from sklearn.metrics import confusion_matrix,classification_report,mean_absolute_error,mean_squared_error"
      ],
      "execution_count": 0,
      "outputs": []
    },
    {
      "cell_type": "code",
      "metadata": {
        "id": "insRML_D_trj",
        "colab_type": "code",
        "colab": {}
      },
      "source": [
        "con = confusion_matrix(y_test_svm, y_pred_svm)"
      ],
      "execution_count": 0,
      "outputs": []
    },
    {
      "cell_type": "code",
      "metadata": {
        "id": "-qWxH1ZmAAgz",
        "colab_type": "code",
        "colab": {
          "base_uri": "https://localhost:8080/",
          "height": 50
        },
        "outputId": "8a03f29b-fb9f-449a-c09f-60a2df8dc00f"
      },
      "source": [
        "print(con)"
      ],
      "execution_count": 108,
      "outputs": [
        {
          "output_type": "stream",
          "text": [
            "[[66  2]\n",
            " [ 8 24]]\n"
          ],
          "name": "stdout"
        }
      ]
    },
    {
      "cell_type": "code",
      "metadata": {
        "id": "pxHVHzXpALEH",
        "colab_type": "code",
        "colab": {}
      },
      "source": [
        "cla = classification_report(y_test_svm, y_pred_svm)"
      ],
      "execution_count": 0,
      "outputs": []
    },
    {
      "cell_type": "code",
      "metadata": {
        "id": "Vqgw9L1wAqpF",
        "colab_type": "code",
        "colab": {
          "base_uri": "https://localhost:8080/",
          "height": 167
        },
        "outputId": "89391496-c2dd-4e9e-8ca5-372b8f8dbdbc"
      },
      "source": [
        "print(cla)"
      ],
      "execution_count": 107,
      "outputs": [
        {
          "output_type": "stream",
          "text": [
            "              precision    recall  f1-score   support\n",
            "\n",
            "           0       0.89      0.97      0.93        68\n",
            "           1       0.92      0.75      0.83        32\n",
            "\n",
            "    accuracy                           0.90       100\n",
            "   macro avg       0.91      0.86      0.88       100\n",
            "weighted avg       0.90      0.90      0.90       100\n",
            "\n"
          ],
          "name": "stdout"
        }
      ]
    },
    {
      "cell_type": "code",
      "metadata": {
        "id": "iKwEfegIArtZ",
        "colab_type": "code",
        "colab": {
          "base_uri": "https://localhost:8080/",
          "height": 33
        },
        "outputId": "4301d499-4024-4a7c-ecb1-2dcbd10cf6d6"
      },
      "source": [
        "print(mean_squared_error(y_test_svm, y_pred_svm))"
      ],
      "execution_count": 112,
      "outputs": [
        {
          "output_type": "stream",
          "text": [
            "0.1\n"
          ],
          "name": "stdout"
        }
      ]
    },
    {
      "cell_type": "code",
      "metadata": {
        "id": "tdWGdVACBTyj",
        "colab_type": "code",
        "colab": {
          "base_uri": "https://localhost:8080/",
          "height": 33
        },
        "outputId": "3c9f12e7-5519-4841-e394-d8b8da7b9243"
      },
      "source": [
        "\n",
        "print(mean_absolute_error(y_test_svm, y_pred_svm))"
      ],
      "execution_count": 113,
      "outputs": [
        {
          "output_type": "stream",
          "text": [
            "0.1\n"
          ],
          "name": "stdout"
        }
      ]
    },
    {
      "cell_type": "code",
      "metadata": {
        "id": "Li1cdxeTBlB2",
        "colab_type": "code",
        "colab": {}
      },
      "source": [
        ""
      ],
      "execution_count": 0,
      "outputs": []
    }
  ]
}
